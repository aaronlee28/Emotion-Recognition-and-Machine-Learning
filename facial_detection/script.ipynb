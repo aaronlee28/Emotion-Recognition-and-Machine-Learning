{
 "cells": [
  {
   "cell_type": "code",
   "execution_count": 1,
   "metadata": {},
   "outputs": [],
   "source": [
    "import cv2\n",
    "import numpy as np\n",
    "import dlib\n",
    "import pandas as pd\n",
    "import os, glob\n",
    "from imutils import face_utils\n",
    "# import numpy as np\n",
    "import argparse\n",
    "import imutils"
   ]
  },
  {
   "cell_type": "code",
   "execution_count": 2,
   "metadata": {},
   "outputs": [],
   "source": [
    "# Load the detector\n",
    "detector = dlib.get_frontal_face_detector()"
   ]
  },
  {
   "cell_type": "code",
   "execution_count": 3,
   "metadata": {},
   "outputs": [],
   "source": [
    "# Load the predictor\n",
    "predictor = dlib.shape_predictor(\"shape_predictor_68_face_landmarks.dat\")"
   ]
  },
  {
   "cell_type": "code",
   "execution_count": 4,
   "metadata": {},
   "outputs": [],
   "source": [
    "emotion_codes = {\n",
    "    'Angry': 0,\n",
    "    'Disgust' : 1, \n",
    "    'Fear' : 2, \n",
    "    'Happy' : 3, \n",
    "    'Sad' : 4, \n",
    "    'Surprise' : 5, \n",
    "    'Neutral': 6\n",
    "   }"
   ]
  },
  {
   "cell_type": "code",
   "execution_count": 45,
   "metadata": {},
   "outputs": [],
   "source": [
    "emotions_features = pd.DataFrame()\n",
    "emotions_features2 = pd.DataFrame()\n",
    "\n",
    "for filepath in glob.glob(\"photo_predict\\\\*.jpg\"):\n",
    "# for filepath in glob.glob(\"Training_803556.jpg\"):\n",
    "    #Split a path to get emotion name\n",
    "    emotion = filepath.split(os.sep)[1]\n",
    "#     print(emotion)\n",
    "    \n",
    "    # Match dictionary key format from folder name\n",
    "    # emotion_code = emotion_codes[emotion.capitalize()]\n",
    "    \n",
    "    # Read the image\n",
    "    img = cv2.imread(filepath)\n",
    "    \n",
    "    # Convert image into grayscale\n",
    "    gray = cv2.cvtColor(src=img, code=cv2.COLOR_BGR2GRAY)\n",
    "#     print(gray)\n",
    "    \n",
    "    # Use detector to find landmarks\n",
    "    faces = detector(gray)\n",
    "    \n",
    "    for face in faces:\n",
    "        x1 = face.left() # left point\n",
    "        y1 = face.top() # top point\n",
    "        x2 = face.right() # right point\n",
    "        y2 = face.bottom() # bottom point\n",
    "\n",
    "\n",
    "        landmarks = predictor(image=gray, box=face)\n",
    "\n",
    "\n",
    "        # Create empty arrays per face feature\n",
    "        jaw = np.array([])\n",
    "        left_eyebrow = np.array([])\n",
    "        right_eyebrow = np.array([])\n",
    "        nose = np.array([])\n",
    "        left_eye = np.array([])\n",
    "        right_eye = np.array([])\n",
    "        mouth = np.array([])\n",
    "        lips = np.array([])\n",
    "        result = np.array([])\n",
    "        emptyarray = []\n",
    "        \n",
    "        for n in range(0, 68):\n",
    "            x = landmarks.part(n).x\n",
    "            y = landmarks.part(n).y\n",
    "            # Draw a circle\n",
    "            cv2.circle(img=img, center=(x, y), radius=3, color=(0, 255, 0), thickness=-1)\n",
    "#             print(x)\n",
    "            # Created a coordinate numpy array\n",
    "            coordinates = np.array([x, y])\n",
    "\n",
    "            result = np.hstack((result, coordinates))\n",
    "            if n >= 0 and n <=16:\n",
    "                jaw=np.hstack((jaw, coordinates))\n",
    "#                 print(jaw)\n",
    "\n",
    "            elif n > 16 and n <=21:\n",
    "                right_eyebrow=np.hstack((right_eyebrow, coordinates))  \n",
    "\n",
    "            elif n > 21 and n <=26:\n",
    "                left_eyebrow=np.hstack((left_eyebrow, coordinates))\n",
    "\n",
    "            elif n > 26 and n <=35:\n",
    "                nose=np.hstack((nose, coordinates))\n",
    "\n",
    "            elif n > 35 and n <=41:\n",
    "                right_eye=np.hstack((right_eye, coordinates))\n",
    "\n",
    "            elif n > 41 and n <=47:\n",
    "                left_eye=np.hstack((left_eye, coordinates))\n",
    "\n",
    "            elif n > 47 and n <=60:\n",
    "                mouth=np.hstack((mouth, coordinates))\n",
    "\n",
    "            elif n > 60 and n <=67:\n",
    "                lips=np.hstack((lips, coordinates))\n",
    "            emptyarray.append(coordinates[0])\n",
    "            emptyarray.append(coordinates[1])\n",
    "\n",
    "            df2 = pd.DataFrame({'features':[emptyarray]})\n",
    "           \n",
    "        \n",
    "        # emotions_features = emotions_features.append(df)\n",
    "        emotions_features2 = emotions_features2.append(df2)\n",
    "        \n",
    "# show the image\n",
    "cv2.imshow(winname=\"Face\", mat=img)\n",
    "# Wait for a key press to exit\n",
    "cv2.waitKey(delay=0)\n",
    "# Close all windows\n",
    "cv2.destroyAllWindows()"
   ]
  },
  {
   "cell_type": "code",
   "execution_count": 6,
   "metadata": {},
   "outputs": [
    {
     "data": {
      "text/html": [
       "<div>\n",
       "<style scoped>\n",
       "    .dataframe tbody tr th:only-of-type {\n",
       "        vertical-align: middle;\n",
       "    }\n",
       "\n",
       "    .dataframe tbody tr th {\n",
       "        vertical-align: top;\n",
       "    }\n",
       "\n",
       "    .dataframe thead th {\n",
       "        text-align: right;\n",
       "    }\n",
       "</style>\n",
       "<table border=\"1\" class=\"dataframe\">\n",
       "  <thead>\n",
       "    <tr style=\"text-align: right;\">\n",
       "      <th></th>\n",
       "      <th>features</th>\n",
       "    </tr>\n",
       "  </thead>\n",
       "  <tbody>\n",
       "    <tr>\n",
       "      <th>0</th>\n",
       "      <td>[709, 526, 718, 585, 730, 643, 747, 701, 776, ...</td>\n",
       "    </tr>\n",
       "  </tbody>\n",
       "</table>\n",
       "</div>"
      ],
      "text/plain": [
       "                                            features\n",
       "0  [709, 526, 718, 585, 730, 643, 747, 701, 776, ..."
      ]
     },
     "execution_count": 6,
     "metadata": {},
     "output_type": "execute_result"
    }
   ],
   "source": [
    "emotions_features2.head(1)"
   ]
  },
  {
   "cell_type": "code",
   "execution_count": 7,
   "metadata": {},
   "outputs": [],
   "source": [
    "emotions_features2['features']= emotions_features2['features'].astype(str).str[1:-1]\n",
    "\n",
    "emotions_features3 = emotions_features2['features'].str.split(\",\", n = 135, expand = True) \n",
    "emotions_features3.rename(columns= lambda s:f\"data{s}\", inplace=True)\n"
   ]
  },
  {
   "cell_type": "code",
   "execution_count": 8,
   "metadata": {},
   "outputs": [
    {
     "data": {
      "text/html": [
       "<div>\n",
       "<style scoped>\n",
       "    .dataframe tbody tr th:only-of-type {\n",
       "        vertical-align: middle;\n",
       "    }\n",
       "\n",
       "    .dataframe tbody tr th {\n",
       "        vertical-align: top;\n",
       "    }\n",
       "\n",
       "    .dataframe thead th {\n",
       "        text-align: right;\n",
       "    }\n",
       "</style>\n",
       "<table border=\"1\" class=\"dataframe\">\n",
       "  <thead>\n",
       "    <tr style=\"text-align: right;\">\n",
       "      <th></th>\n",
       "      <th>data0</th>\n",
       "      <th>data1</th>\n",
       "      <th>data2</th>\n",
       "      <th>data3</th>\n",
       "      <th>data4</th>\n",
       "      <th>data5</th>\n",
       "      <th>data6</th>\n",
       "      <th>data7</th>\n",
       "      <th>data8</th>\n",
       "      <th>data9</th>\n",
       "      <th>...</th>\n",
       "      <th>data126</th>\n",
       "      <th>data127</th>\n",
       "      <th>data128</th>\n",
       "      <th>data129</th>\n",
       "      <th>data130</th>\n",
       "      <th>data131</th>\n",
       "      <th>data132</th>\n",
       "      <th>data133</th>\n",
       "      <th>data134</th>\n",
       "      <th>data135</th>\n",
       "    </tr>\n",
       "  </thead>\n",
       "  <tbody>\n",
       "    <tr>\n",
       "      <th>0</th>\n",
       "      <td>709</td>\n",
       "      <td>526</td>\n",
       "      <td>718</td>\n",
       "      <td>585</td>\n",
       "      <td>730</td>\n",
       "      <td>643</td>\n",
       "      <td>747</td>\n",
       "      <td>701</td>\n",
       "      <td>776</td>\n",
       "      <td>753</td>\n",
       "      <td>...</td>\n",
       "      <td>996</td>\n",
       "      <td>697</td>\n",
       "      <td>1056</td>\n",
       "      <td>693</td>\n",
       "      <td>998</td>\n",
       "      <td>730</td>\n",
       "      <td>970</td>\n",
       "      <td>736</td>\n",
       "      <td>940</td>\n",
       "      <td>735</td>\n",
       "    </tr>\n",
       "  </tbody>\n",
       "</table>\n",
       "<p>1 rows × 136 columns</p>\n",
       "</div>"
      ],
      "text/plain": [
       "   data0  data1  data2  data3  data4  data5  data6  data7  data8  data9  ...  \\\n",
       "0    709    526    718    585    730    643    747    701    776    753  ...   \n",
       "\n",
       "   data126  data127  data128  data129  data130  data131  data132  data133  \\\n",
       "0      996      697     1056      693      998      730      970      736   \n",
       "\n",
       "   data134  data135  \n",
       "0      940      735  \n",
       "\n",
       "[1 rows x 136 columns]"
      ]
     },
     "execution_count": 8,
     "metadata": {},
     "output_type": "execute_result"
    }
   ],
   "source": [
    "data_int = emotions_features3.apply(pd.to_numeric)\n",
    "data_int.fillna(0,inplace=True)\n",
    "data_int = data_int.astype({\"data0\": int})\n",
    "data_int"
   ]
  },
  {
   "cell_type": "markdown",
   "metadata": {},
   "source": [
    " ## Load the Model"
   ]
  },
  {
   "cell_type": "code",
   "execution_count": 9,
   "metadata": {},
   "outputs": [],
   "source": [
    "from tensorflow.keras.models import load_model\n",
    "model =load_model(\"image_emotions_model.h5\")"
   ]
  },
  {
   "cell_type": "markdown",
   "metadata": {},
   "source": [
    "## Make the Prediction"
   ]
  },
  {
   "cell_type": "code",
   "execution_count": 39,
   "metadata": {},
   "outputs": [
    {
     "data": {
      "text/plain": [
       "3"
      ]
     },
     "execution_count": 39,
     "metadata": {},
     "output_type": "execute_result"
    }
   ],
   "source": [
    "prediction = model.predict_classes(data_int)\n",
    "prediction[0]"
   ]
  },
  {
   "cell_type": "code",
   "execution_count": 40,
   "metadata": {},
   "outputs": [
    {
     "data": {
      "text/plain": [
       "Predicted    int32\n",
       "dtype: object"
      ]
     },
     "execution_count": 40,
     "metadata": {},
     "output_type": "execute_result"
    }
   ],
   "source": [
    "result_df = pd.DataFrame()\n",
    "result_df['Predicted'] = encoded_predictions\n",
    "result_df = result_df.astype({\"Predicted\": int})\n",
    "result_df.dtypes"
   ]
  },
  {
   "cell_type": "code",
   "execution_count": 41,
   "metadata": {},
   "outputs": [],
   "source": [
    "emotion_codes = {\n",
    "    0: 'Angry',\n",
    "    1:'Disgust' ,\n",
    "    2:'Fear',\n",
    "    3:'Happy',\n",
    "    4:'Sad',\n",
    "    5:'Surprise',\n",
    "    6:'Neutral'\n",
    "   }"
   ]
  },
  {
   "cell_type": "code",
   "execution_count": 43,
   "metadata": {},
   "outputs": [
    {
     "data": {
      "text/plain": [
       "'Happy'"
      ]
     },
     "execution_count": 43,
     "metadata": {},
     "output_type": "execute_result"
    }
   ],
   "source": [
    "result = emotion_codes[prediction[0]]\n",
    "result"
   ]
  },
  {
   "cell_type": "code",
   "execution_count": null,
   "metadata": {},
   "outputs": [],
   "source": []
  }
 ],
 "metadata": {
  "kernelspec": {
   "display_name": "Python [conda env:PythonAdv] *",
   "language": "python",
   "name": "conda-env-PythonAdv-py"
  },
  "language_info": {
   "codemirror_mode": {
    "name": "ipython",
    "version": 3
   },
   "file_extension": ".py",
   "mimetype": "text/x-python",
   "name": "python",
   "nbconvert_exporter": "python",
   "pygments_lexer": "ipython3",
   "version": "3.6.13"
  }
 },
 "nbformat": 4,
 "nbformat_minor": 2
}
