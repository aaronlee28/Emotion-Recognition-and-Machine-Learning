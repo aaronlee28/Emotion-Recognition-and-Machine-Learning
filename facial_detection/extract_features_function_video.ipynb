{
 "cells": [
  {
   "cell_type": "code",
   "execution_count": 1,
   "id": "a49f37e1",
   "metadata": {},
   "outputs": [],
   "source": [
    "import cv2\n",
    "import numpy as np\n",
    "import dlib\n",
    "import pandas as pd\n",
    "import os, glob\n",
    "from imutils import face_utils\n",
    "import argparse\n",
    "import imutils"
   ]
  },
  {
   "cell_type": "code",
   "execution_count": 2,
   "id": "2a845851",
   "metadata": {},
   "outputs": [],
   "source": [
    "def file_features(path):\n",
    "    \n",
    "    # Load the detector\n",
    "    detector = dlib.get_frontal_face_detector()\n",
    "    \n",
    "    # Load the predictor\n",
    "    predictor = dlib.shape_predictor(\"shape_predictor_68_face_landmarks.dat\")\n",
    "\n",
    "    emotions_features = pd.DataFrame()\n",
    "    \n",
    "    for filepath in glob.glob(path):\n",
    "        \n",
    "        # Read the video\n",
    "#         img = cv2.imread(filepath)\n",
    "        cap = cv2.VideoCapture(path)\n",
    "        ret, frame = cap.read()\n",
    "    \n",
    "        # Convert image into grayscale\n",
    "        gray = cv2.cvtColor(src=frame, code=cv2.COLOR_BGR2GRAY)\n",
    "\n",
    "        # Use detector to find landmarks\n",
    "        faces = detector(gray)\n",
    "        \n",
    "        for face in faces:\n",
    "            x1 = face.left() # left point\n",
    "            y1 = face.top() # top point\n",
    "            x2 = face.right() # right point\n",
    "            y2 = face.bottom() # bottom point\n",
    "\n",
    "\n",
    "            landmarks = predictor(image=gray, box=face)\n",
    "            \n",
    "            emptyarray = []\n",
    "            \n",
    "            for n in range(0, 68):\n",
    "                x = landmarks.part(n).x\n",
    "                y = landmarks.part(n).y\n",
    "    #             print(x)\n",
    "                # Created a coordinate numpy array\n",
    "                coordinates = np.array([x, y])\n",
    "            \n",
    "                # Append coordinate values (x, y) to emptyarray\n",
    "                emptyarray.append(coordinates[0])\n",
    "                emptyarray.append(coordinates[1])\n",
    "\n",
    "                # Create dataframe\n",
    "                df = pd.DataFrame({'features':[emptyarray]})\n",
    "        \n",
    "            # Append all df from all files/faces\n",
    "            emotions_features = emotions_features.append(df)\n",
    "        \n",
    "    emotions_features['features']= emotions_features['features'].astype(str).str[1:-1]\n",
    "    emotions_features2 = emotions_features['features'].str.split(\",\", n = 135, expand = True) \n",
    "    emotions_features2.rename(columns= lambda s:f\"data{s}\", inplace=True )\n",
    "\n",
    "    emotions_features2 = emotions_features2.apply(pd.to_numeric)\n",
    "    emotions_features2.fillna(0,inplace=True)\n",
    "    emotions_features2 = emotions_features2.astype({\"data0\": int})\n",
    "\n",
    "    \n",
    "    emotions_features2.reset_index(drop=True, inplace=True)\n",
    "\n",
    "    return emotions_features2"
   ]
  },
  {
   "cell_type": "markdown",
   "id": "cb6fba2e",
   "metadata": {},
   "source": [
    "## Prediction function"
   ]
  },
  {
   "cell_type": "code",
   "execution_count": 3,
   "id": "6c6099c4",
   "metadata": {},
   "outputs": [],
   "source": [
    "def make_prediction(model, path):\n",
    "    \n",
    "    # Extract image file features\n",
    "    df = file_features(path)\n",
    "    \n",
    "    # Make prediction using imported model\n",
    "    prediction = model.predict_classes(df)\n",
    "#     prediction_label = label_encoder.inverse_transform(prediction)\n",
    "    \n",
    "    # Emotion labels\n",
    "    emotion_codes = {\n",
    "                0: 'Angry',\n",
    "                1:'Disgust' ,\n",
    "                2:'Fear',\n",
    "                3:'Happy',\n",
    "                4:'Sad',\n",
    "                5:'Surprise',\n",
    "                6:'Neutral'\n",
    "               }\n",
    "    result = emotion_codes[prediction[0]]\n",
    "    \n",
    "    result_dict = {'emotion': result}\n",
    "    \n",
    "    return result_dict    \n",
    "#     return prediction_label[0]"
   ]
  },
  {
   "cell_type": "code",
   "execution_count": 4,
   "id": "c695a021",
   "metadata": {},
   "outputs": [
    {
     "data": {
      "text/plain": [
       "'Happy'"
      ]
     },
     "execution_count": 4,
     "metadata": {},
     "output_type": "execute_result"
    }
   ],
   "source": [
    "from tensorflow.keras.models import load_model\n",
    "model =load_model(\"image_emotions_model_test.h5\")\n",
    "\n",
    "# Make predictions\n",
    "img_path = 'test_video.mp4'\n",
    "test_img = make_prediction(model, img_path)\n",
    "test_img"
   ]
  },
  {
   "cell_type": "code",
   "execution_count": null,
   "id": "9bb33d5d",
   "metadata": {},
   "outputs": [],
   "source": []
  }
 ],
 "metadata": {
  "kernelspec": {
   "display_name": "Python [conda env:PythonAdv] *",
   "language": "python",
   "name": "conda-env-PythonAdv-py"
  },
  "language_info": {
   "codemirror_mode": {
    "name": "ipython",
    "version": 3
   },
   "file_extension": ".py",
   "mimetype": "text/x-python",
   "name": "python",
   "nbconvert_exporter": "python",
   "pygments_lexer": "ipython3",
   "version": "3.6.13"
  }
 },
 "nbformat": 4,
 "nbformat_minor": 5
}
