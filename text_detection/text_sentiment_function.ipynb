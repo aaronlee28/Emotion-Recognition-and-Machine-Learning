{
 "cells": [
  {
   "cell_type": "code",
   "execution_count": 1,
   "id": "019c01b2",
   "metadata": {},
   "outputs": [],
   "source": [
    "def text_cleaning(data):\n",
    "    import pandas as pd\n",
    "    import numpy as np\n",
    "    import nltk\n",
    "    # nltk.download()\n",
    "    from nltk import word_tokenize\n",
    "    from nltk.corpus import stopwords\n",
    "    import string\n",
    "    import pickle\n",
    "    \n",
    "    # load the model from disk\n",
    "    model_filename = 'text_emotions_model.sav'\n",
    "    model = pickle.load(open(model_filename, 'rb'))\n",
    "\n",
    "    # load the vectorizer from disk\n",
    "    vectorizer_filename = 'tfidf_vect.pk'\n",
    "    tfidf_vect = pickle.load(open(vectorizer_filename, 'rb'))\n",
    "\n",
    "    text = data.lower()\n",
    "    cleaned = [char for char in text if char not in string.punctuation]\n",
    "    cleaned = \"\".join(cleaned)\n",
    "    result = np.array([cleaned])\n",
    "    \n",
    "    result_prediction = text_features(result, tfidf_vect, model)\n",
    "    \n",
    "    \n",
    "    return result_prediction"
   ]
  },
  {
   "cell_type": "code",
   "execution_count": 2,
   "id": "e896d436",
   "metadata": {},
   "outputs": [],
   "source": [
    "def text_features(text, tfidf_vect, model):\n",
    "    import pandas as pd\n",
    "    import numpy as np\n",
    "    from sklearn.feature_extraction.text import TfidfVectorizer\n",
    "    from sklearn.model_selection import train_test_split\n",
    "    from sklearn.naive_bayes import MultinomialNB\n",
    "    \n",
    "    text_vect = tfidf_vect.transform(text).toarray()\n",
    "    \n",
    "    emotion = model.predict(text_vect.reshape(1, -1))[0]\n",
    "    \n",
    "    emotions = {0:'Negative',\n",
    "                1:'Positive'}\n",
    "    \n",
    "    result = emotions[emotion]\n",
    "    \n",
    "    return result\n"
   ]
  },
  {
   "cell_type": "code",
   "execution_count": 3,
   "id": "83a871a6",
   "metadata": {},
   "outputs": [
    {
     "data": {
      "text/plain": [
       "'Negative'"
      ]
     },
     "execution_count": 3,
     "metadata": {},
     "output_type": "execute_result"
    }
   ],
   "source": [
    "txt = 'Crypto is crashing'\n",
    "text_cleaning(txt)"
   ]
  },
  {
   "cell_type": "code",
   "execution_count": null,
   "id": "f0cfa391",
   "metadata": {},
   "outputs": [],
   "source": []
  }
 ],
 "metadata": {
  "kernelspec": {
   "display_name": "Python [conda env:PythonAdv] *",
   "language": "python",
   "name": "conda-env-PythonAdv-py"
  },
  "language_info": {
   "codemirror_mode": {
    "name": "ipython",
    "version": 3
   },
   "file_extension": ".py",
   "mimetype": "text/x-python",
   "name": "python",
   "nbconvert_exporter": "python",
   "pygments_lexer": "ipython3",
   "version": "3.6.13"
  }
 },
 "nbformat": 4,
 "nbformat_minor": 5
}
